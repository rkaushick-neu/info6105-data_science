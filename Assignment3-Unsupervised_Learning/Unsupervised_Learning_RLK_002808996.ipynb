{
 "cells": [
  {
   "cell_type": "markdown",
   "metadata": {},
   "source": [
    "# Unsupervised Learning \n",
    "## Assignment 3"
   ]
  },
  {
   "cell_type": "markdown",
   "metadata": {},
   "source": [
    "Rishabh Kaushick <br>\n",
    "NUID: 002808996 <br>\n",
    "kaushick.r@northeastern.edu <br> <br>\n",
    "November 16, 2023"
   ]
  },
  {
   "cell_type": "code",
   "execution_count": 1,
   "metadata": {},
   "outputs": [],
   "source": [
    "# library imports\n",
    "import numpy as np\n",
    "import pandas as pd\n",
    "import seaborn as sns\n",
    "import matplotlib.pyplot as plt\n",
    "import plotly.express as px\n",
    "import geopandas as gpd"
   ]
  },
  {
   "cell_type": "code",
   "execution_count": 2,
   "metadata": {},
   "outputs": [],
   "source": [
    "# importing both datasets into a pandas dataframe object\n",
    "neo_csv_path = 'data/neo_data.csv'\n",
    "heart_risk_csv_path = 'data/heart_attack_prediction_dataset.csv'\n",
    "\n",
    "neo_raw_df = pd.read_csv(neo_csv_path)\n",
    "heart_risk_raw_df = pd.read_csv(heart_risk_csv_path)"
   ]
  }
 ],
 "metadata": {
  "kernelspec": {
   "display_name": "info6105",
   "language": "python",
   "name": "python3"
  },
  "language_info": {
   "codemirror_mode": {
    "name": "ipython",
    "version": 3
   },
   "file_extension": ".py",
   "mimetype": "text/x-python",
   "name": "python",
   "nbconvert_exporter": "python",
   "pygments_lexer": "ipython3",
   "version": "3.8.17"
  }
 },
 "nbformat": 4,
 "nbformat_minor": 2
}
