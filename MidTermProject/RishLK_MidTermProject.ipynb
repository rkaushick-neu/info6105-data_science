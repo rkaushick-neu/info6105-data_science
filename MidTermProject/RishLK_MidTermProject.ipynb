{
 "cells": [
  {
   "cell_type": "markdown",
   "metadata": {},
   "source": [
    "# Mid-Term Project"
   ]
  },
  {
   "cell_type": "markdown",
   "metadata": {},
   "source": [
    "Rishabh Kaushick,   NU ID: 002808996,   kaushick.r@northeastern.edu\n",
    "\n",
    "College of Engineering, \n",
    "Northeastern University\n",
    "Toronto, ON"
   ]
  },
  {
   "cell_type": "markdown",
   "metadata": {},
   "source": []
  },
  {
   "cell_type": "code",
   "execution_count": 1,
   "metadata": {},
   "outputs": [],
   "source": [
    "# importing the required libraries\n",
    "import numpy as np\n",
    "import pandas as pd\n",
    "import seaborn as sns\n",
    "import matplotlib.pyplot as plt"
   ]
  },
  {
   "cell_type": "code",
   "execution_count": 2,
   "metadata": {},
   "outputs": [],
   "source": [
    "# loading the data\n",
    "# structured data\n",
    "scm_dataset_path = 'data/DataCoSupplyChainDataset.csv'\n",
    "scm_df = pd.read_csv(scm_dataset_path, encoding='latin-1')\n",
    "\n",
    "# unstructured data\n",
    "scm_unstructured_path = 'data/tokenized_access_logs.csv'\n",
    "scm_unstructured_df = pd.read_csv(scm_unstructured_path)"
   ]
  },
  {
   "cell_type": "code",
   "execution_count": 3,
   "metadata": {},
   "outputs": [
    {
     "data": {
      "text/html": [
       "<div>\n",
       "<style scoped>\n",
       "    .dataframe tbody tr th:only-of-type {\n",
       "        vertical-align: middle;\n",
       "    }\n",
       "\n",
       "    .dataframe tbody tr th {\n",
       "        vertical-align: top;\n",
       "    }\n",
       "\n",
       "    .dataframe thead th {\n",
       "        text-align: right;\n",
       "    }\n",
       "</style>\n",
       "<table border=\"1\" class=\"dataframe\">\n",
       "  <thead>\n",
       "    <tr style=\"text-align: right;\">\n",
       "      <th></th>\n",
       "      <th>Type</th>\n",
       "      <th>Days for shipping (real)</th>\n",
       "      <th>Days for shipment (scheduled)</th>\n",
       "      <th>Benefit per order</th>\n",
       "      <th>Sales per customer</th>\n",
       "      <th>Delivery Status</th>\n",
       "      <th>Late_delivery_risk</th>\n",
       "      <th>Category Id</th>\n",
       "      <th>Category Name</th>\n",
       "      <th>Customer City</th>\n",
       "      <th>...</th>\n",
       "      <th>Order Zipcode</th>\n",
       "      <th>Product Card Id</th>\n",
       "      <th>Product Category Id</th>\n",
       "      <th>Product Description</th>\n",
       "      <th>Product Image</th>\n",
       "      <th>Product Name</th>\n",
       "      <th>Product Price</th>\n",
       "      <th>Product Status</th>\n",
       "      <th>shipping date (DateOrders)</th>\n",
       "      <th>Shipping Mode</th>\n",
       "    </tr>\n",
       "  </thead>\n",
       "  <tbody>\n",
       "    <tr>\n",
       "      <th>0</th>\n",
       "      <td>DEBIT</td>\n",
       "      <td>3</td>\n",
       "      <td>4</td>\n",
       "      <td>91.250000</td>\n",
       "      <td>314.640015</td>\n",
       "      <td>Advance shipping</td>\n",
       "      <td>0</td>\n",
       "      <td>73</td>\n",
       "      <td>Sporting Goods</td>\n",
       "      <td>Caguas</td>\n",
       "      <td>...</td>\n",
       "      <td>NaN</td>\n",
       "      <td>1360</td>\n",
       "      <td>73</td>\n",
       "      <td>NaN</td>\n",
       "      <td>http://images.acmesports.sports/Smart+watch</td>\n",
       "      <td>Smart watch</td>\n",
       "      <td>327.75</td>\n",
       "      <td>0</td>\n",
       "      <td>2/3/2018 22:56</td>\n",
       "      <td>Standard Class</td>\n",
       "    </tr>\n",
       "    <tr>\n",
       "      <th>1</th>\n",
       "      <td>TRANSFER</td>\n",
       "      <td>5</td>\n",
       "      <td>4</td>\n",
       "      <td>-249.089996</td>\n",
       "      <td>311.359985</td>\n",
       "      <td>Late delivery</td>\n",
       "      <td>1</td>\n",
       "      <td>73</td>\n",
       "      <td>Sporting Goods</td>\n",
       "      <td>Caguas</td>\n",
       "      <td>...</td>\n",
       "      <td>NaN</td>\n",
       "      <td>1360</td>\n",
       "      <td>73</td>\n",
       "      <td>NaN</td>\n",
       "      <td>http://images.acmesports.sports/Smart+watch</td>\n",
       "      <td>Smart watch</td>\n",
       "      <td>327.75</td>\n",
       "      <td>0</td>\n",
       "      <td>1/18/2018 12:27</td>\n",
       "      <td>Standard Class</td>\n",
       "    </tr>\n",
       "    <tr>\n",
       "      <th>2</th>\n",
       "      <td>CASH</td>\n",
       "      <td>4</td>\n",
       "      <td>4</td>\n",
       "      <td>-247.779999</td>\n",
       "      <td>309.720001</td>\n",
       "      <td>Shipping on time</td>\n",
       "      <td>0</td>\n",
       "      <td>73</td>\n",
       "      <td>Sporting Goods</td>\n",
       "      <td>San Jose</td>\n",
       "      <td>...</td>\n",
       "      <td>NaN</td>\n",
       "      <td>1360</td>\n",
       "      <td>73</td>\n",
       "      <td>NaN</td>\n",
       "      <td>http://images.acmesports.sports/Smart+watch</td>\n",
       "      <td>Smart watch</td>\n",
       "      <td>327.75</td>\n",
       "      <td>0</td>\n",
       "      <td>1/17/2018 12:06</td>\n",
       "      <td>Standard Class</td>\n",
       "    </tr>\n",
       "    <tr>\n",
       "      <th>3</th>\n",
       "      <td>DEBIT</td>\n",
       "      <td>3</td>\n",
       "      <td>4</td>\n",
       "      <td>22.860001</td>\n",
       "      <td>304.809998</td>\n",
       "      <td>Advance shipping</td>\n",
       "      <td>0</td>\n",
       "      <td>73</td>\n",
       "      <td>Sporting Goods</td>\n",
       "      <td>Los Angeles</td>\n",
       "      <td>...</td>\n",
       "      <td>NaN</td>\n",
       "      <td>1360</td>\n",
       "      <td>73</td>\n",
       "      <td>NaN</td>\n",
       "      <td>http://images.acmesports.sports/Smart+watch</td>\n",
       "      <td>Smart watch</td>\n",
       "      <td>327.75</td>\n",
       "      <td>0</td>\n",
       "      <td>1/16/2018 11:45</td>\n",
       "      <td>Standard Class</td>\n",
       "    </tr>\n",
       "    <tr>\n",
       "      <th>4</th>\n",
       "      <td>PAYMENT</td>\n",
       "      <td>2</td>\n",
       "      <td>4</td>\n",
       "      <td>134.210007</td>\n",
       "      <td>298.250000</td>\n",
       "      <td>Advance shipping</td>\n",
       "      <td>0</td>\n",
       "      <td>73</td>\n",
       "      <td>Sporting Goods</td>\n",
       "      <td>Caguas</td>\n",
       "      <td>...</td>\n",
       "      <td>NaN</td>\n",
       "      <td>1360</td>\n",
       "      <td>73</td>\n",
       "      <td>NaN</td>\n",
       "      <td>http://images.acmesports.sports/Smart+watch</td>\n",
       "      <td>Smart watch</td>\n",
       "      <td>327.75</td>\n",
       "      <td>0</td>\n",
       "      <td>1/15/2018 11:24</td>\n",
       "      <td>Standard Class</td>\n",
       "    </tr>\n",
       "  </tbody>\n",
       "</table>\n",
       "<p>5 rows × 53 columns</p>\n",
       "</div>"
      ],
      "text/plain": [
       "       Type  Days for shipping (real)  Days for shipment (scheduled)  \\\n",
       "0     DEBIT                         3                              4   \n",
       "1  TRANSFER                         5                              4   \n",
       "2      CASH                         4                              4   \n",
       "3     DEBIT                         3                              4   \n",
       "4   PAYMENT                         2                              4   \n",
       "\n",
       "   Benefit per order  Sales per customer   Delivery Status  \\\n",
       "0          91.250000          314.640015  Advance shipping   \n",
       "1        -249.089996          311.359985     Late delivery   \n",
       "2        -247.779999          309.720001  Shipping on time   \n",
       "3          22.860001          304.809998  Advance shipping   \n",
       "4         134.210007          298.250000  Advance shipping   \n",
       "\n",
       "   Late_delivery_risk  Category Id   Category Name Customer City  ...  \\\n",
       "0                   0           73  Sporting Goods        Caguas  ...   \n",
       "1                   1           73  Sporting Goods        Caguas  ...   \n",
       "2                   0           73  Sporting Goods      San Jose  ...   \n",
       "3                   0           73  Sporting Goods   Los Angeles  ...   \n",
       "4                   0           73  Sporting Goods        Caguas  ...   \n",
       "\n",
       "  Order Zipcode Product Card Id Product Category Id  Product Description  \\\n",
       "0           NaN            1360                  73                  NaN   \n",
       "1           NaN            1360                  73                  NaN   \n",
       "2           NaN            1360                  73                  NaN   \n",
       "3           NaN            1360                  73                  NaN   \n",
       "4           NaN            1360                  73                  NaN   \n",
       "\n",
       "                                  Product Image  Product Name Product Price  \\\n",
       "0  http://images.acmesports.sports/Smart+watch   Smart watch         327.75   \n",
       "1  http://images.acmesports.sports/Smart+watch   Smart watch         327.75   \n",
       "2  http://images.acmesports.sports/Smart+watch   Smart watch         327.75   \n",
       "3  http://images.acmesports.sports/Smart+watch   Smart watch         327.75   \n",
       "4  http://images.acmesports.sports/Smart+watch   Smart watch         327.75   \n",
       "\n",
       "  Product Status shipping date (DateOrders)   Shipping Mode  \n",
       "0              0             2/3/2018 22:56  Standard Class  \n",
       "1              0            1/18/2018 12:27  Standard Class  \n",
       "2              0            1/17/2018 12:06  Standard Class  \n",
       "3              0            1/16/2018 11:45  Standard Class  \n",
       "4              0            1/15/2018 11:24  Standard Class  \n",
       "\n",
       "[5 rows x 53 columns]"
      ]
     },
     "execution_count": 3,
     "metadata": {},
     "output_type": "execute_result"
    }
   ],
   "source": [
    "# Let's see what the first five rows data looks like\n",
    "scm_df.head()"
   ]
  },
  {
   "cell_type": "code",
   "execution_count": 4,
   "metadata": {},
   "outputs": [
    {
     "data": {
      "text/plain": [
       "Type                             180519\n",
       "Days for shipping (real)         180519\n",
       "Days for shipment (scheduled)    180519\n",
       "Benefit per order                180519\n",
       "Sales per customer               180519\n",
       "Delivery Status                  180519\n",
       "Late_delivery_risk               180519\n",
       "Category Id                      180519\n",
       "Category Name                    180519\n",
       "Customer City                    180519\n",
       "Customer Country                 180519\n",
       "Customer Email                   180519\n",
       "Customer Fname                   180519\n",
       "Customer Id                      180519\n",
       "Customer Lname                   180511\n",
       "Customer Password                180519\n",
       "Customer Segment                 180519\n",
       "Customer State                   180519\n",
       "Customer Street                  180519\n",
       "Customer Zipcode                 180516\n",
       "Department Id                    180519\n",
       "Department Name                  180519\n",
       "Latitude                         180519\n",
       "Longitude                        180519\n",
       "Market                           180519\n",
       "Order City                       180519\n",
       "Order Country                    180519\n",
       "Order Customer Id                180519\n",
       "order date (DateOrders)          180519\n",
       "Order Id                         180519\n",
       "Order Item Cardprod Id           180519\n",
       "Order Item Discount              180519\n",
       "Order Item Discount Rate         180519\n",
       "Order Item Id                    180519\n",
       "Order Item Product Price         180519\n",
       "Order Item Profit Ratio          180519\n",
       "Order Item Quantity              180519\n",
       "Sales                            180519\n",
       "Order Item Total                 180519\n",
       "Order Profit Per Order           180519\n",
       "Order Region                     180519\n",
       "Order State                      180519\n",
       "Order Status                     180519\n",
       "Order Zipcode                     24840\n",
       "Product Card Id                  180519\n",
       "Product Category Id              180519\n",
       "Product Description                   0\n",
       "Product Image                    180519\n",
       "Product Name                     180519\n",
       "Product Price                    180519\n",
       "Product Status                   180519\n",
       "shipping date (DateOrders)       180519\n",
       "Shipping Mode                    180519\n",
       "dtype: int64"
      ]
     },
     "execution_count": 4,
     "metadata": {},
     "output_type": "execute_result"
    }
   ],
   "source": [
    "# total number of rows in the above csv:\n",
    "scm_df.count()"
   ]
  },
  {
   "cell_type": "code",
   "execution_count": 5,
   "metadata": {},
   "outputs": [
    {
     "data": {
      "text/html": [
       "<div>\n",
       "<style scoped>\n",
       "    .dataframe tbody tr th:only-of-type {\n",
       "        vertical-align: middle;\n",
       "    }\n",
       "\n",
       "    .dataframe tbody tr th {\n",
       "        vertical-align: top;\n",
       "    }\n",
       "\n",
       "    .dataframe thead th {\n",
       "        text-align: right;\n",
       "    }\n",
       "</style>\n",
       "<table border=\"1\" class=\"dataframe\">\n",
       "  <thead>\n",
       "    <tr style=\"text-align: right;\">\n",
       "      <th></th>\n",
       "      <th>Product</th>\n",
       "      <th>Category</th>\n",
       "      <th>Date</th>\n",
       "      <th>Month</th>\n",
       "      <th>Hour</th>\n",
       "      <th>Department</th>\n",
       "      <th>ip</th>\n",
       "      <th>url</th>\n",
       "    </tr>\n",
       "  </thead>\n",
       "  <tbody>\n",
       "    <tr>\n",
       "      <th>0</th>\n",
       "      <td>adidas Brazuca 2017 Official Match Ball</td>\n",
       "      <td>baseball &amp; softball</td>\n",
       "      <td>9/1/2017 6:00</td>\n",
       "      <td>Sep</td>\n",
       "      <td>6</td>\n",
       "      <td>fitness</td>\n",
       "      <td>37.97.182.65</td>\n",
       "      <td>/department/fitness/category/baseball%20&amp;%20so...</td>\n",
       "    </tr>\n",
       "    <tr>\n",
       "      <th>1</th>\n",
       "      <td>The North Face Women's Recon Backpack</td>\n",
       "      <td>hunting &amp; shooting</td>\n",
       "      <td>9/1/2017 6:00</td>\n",
       "      <td>Sep</td>\n",
       "      <td>6</td>\n",
       "      <td>fan shop</td>\n",
       "      <td>206.56.112.1</td>\n",
       "      <td>/department/fan%20shop/category/hunting%20&amp;%20...</td>\n",
       "    </tr>\n",
       "    <tr>\n",
       "      <th>2</th>\n",
       "      <td>adidas Kids' RG III Mid Football Cleat</td>\n",
       "      <td>featured shops</td>\n",
       "      <td>9/1/2017 6:00</td>\n",
       "      <td>Sep</td>\n",
       "      <td>6</td>\n",
       "      <td>apparel</td>\n",
       "      <td>215.143.180.0</td>\n",
       "      <td>/department/apparel/category/featured%20shops/...</td>\n",
       "    </tr>\n",
       "    <tr>\n",
       "      <th>3</th>\n",
       "      <td>Under Armour Men's Compression EV SL Slide</td>\n",
       "      <td>electronics</td>\n",
       "      <td>9/1/2017 6:00</td>\n",
       "      <td>Sep</td>\n",
       "      <td>6</td>\n",
       "      <td>footwear</td>\n",
       "      <td>206.56.112.1</td>\n",
       "      <td>/department/footwear/category/electronics/prod...</td>\n",
       "    </tr>\n",
       "    <tr>\n",
       "      <th>4</th>\n",
       "      <td>Pelican Sunstream 100 Kayak</td>\n",
       "      <td>water sports</td>\n",
       "      <td>9/1/2017 6:01</td>\n",
       "      <td>Sep</td>\n",
       "      <td>6</td>\n",
       "      <td>fan shop</td>\n",
       "      <td>136.108.56.242</td>\n",
       "      <td>/department/fan%20shop/category/water%20sports...</td>\n",
       "    </tr>\n",
       "  </tbody>\n",
       "</table>\n",
       "</div>"
      ],
      "text/plain": [
       "                                      Product             Category  \\\n",
       "0     adidas Brazuca 2017 Official Match Ball  baseball & softball   \n",
       "1       The North Face Women's Recon Backpack   hunting & shooting   \n",
       "2      adidas Kids' RG III Mid Football Cleat       featured shops   \n",
       "3  Under Armour Men's Compression EV SL Slide          electronics   \n",
       "4                 Pelican Sunstream 100 Kayak         water sports   \n",
       "\n",
       "            Date Month  Hour Department              ip  \\\n",
       "0  9/1/2017 6:00   Sep     6   fitness     37.97.182.65   \n",
       "1  9/1/2017 6:00   Sep     6  fan shop     206.56.112.1   \n",
       "2  9/1/2017 6:00   Sep     6   apparel    215.143.180.0   \n",
       "3  9/1/2017 6:00   Sep     6  footwear     206.56.112.1   \n",
       "4  9/1/2017 6:01   Sep     6  fan shop   136.108.56.242   \n",
       "\n",
       "                                                 url  \n",
       "0  /department/fitness/category/baseball%20&%20so...  \n",
       "1  /department/fan%20shop/category/hunting%20&%20...  \n",
       "2  /department/apparel/category/featured%20shops/...  \n",
       "3  /department/footwear/category/electronics/prod...  \n",
       "4  /department/fan%20shop/category/water%20sports...  "
      ]
     },
     "execution_count": 5,
     "metadata": {},
     "output_type": "execute_result"
    }
   ],
   "source": [
    "scm_unstructured_df.head()"
   ]
  },
  {
   "cell_type": "code",
   "execution_count": 6,
   "metadata": {},
   "outputs": [
    {
     "data": {
      "text/plain": [
       "Product       469977\n",
       "Category      469977\n",
       "Date          469977\n",
       "Month         469977\n",
       "Hour          469977\n",
       "Department    469977\n",
       "ip            469977\n",
       "url           469977\n",
       "dtype: int64"
      ]
     },
     "execution_count": 6,
     "metadata": {},
     "output_type": "execute_result"
    }
   ],
   "source": [
    "scm_unstructured_df.count()"
   ]
  },
  {
   "cell_type": "markdown",
   "metadata": {},
   "source": [
    "In the main csv dataset, there are 53 columns and 180,519 rows. Therefore there are 53 X 180,519 = 9,567,507 data points.\n",
    "\n",
    "\n",
    "However, from the unstructured dataset, we can see that there are 8 columns and 469,977 rows. Therefore there are 8 X 469,977 = 3,759,816 data points.\n",
    "\n",
    "\n",
    "Since the columns in each of the datasets are different from each other, and since there is a lot more data in the structured dataframe, we will use the same and disregard the unstructured data in this project."
   ]
  },
  {
   "cell_type": "code",
   "execution_count": 7,
   "metadata": {},
   "outputs": [
    {
     "data": {
      "text/plain": [
       "Type\n",
       "DEBIT       69295\n",
       "TRANSFER    49883\n",
       "PAYMENT     41725\n",
       "CASH        19616\n",
       "Name: count, dtype: int64"
      ]
     },
     "execution_count": 7,
     "metadata": {},
     "output_type": "execute_result"
    }
   ],
   "source": [
    "# Let's see the type of data in the 'Type' Column\n",
    "scm_df['Type'].value_counts()"
   ]
  },
  {
   "cell_type": "code",
   "execution_count": 8,
   "metadata": {},
   "outputs": [
    {
     "data": {
      "text/plain": [
       "([<matplotlib.patches.Wedge at 0x16b985550>,\n",
       "  <matplotlib.patches.Wedge at 0x16b985460>,\n",
       "  <matplotlib.patches.Wedge at 0x16b9a62e0>,\n",
       "  <matplotlib.patches.Wedge at 0x16b9a69a0>],\n",
       " [Text(0.428168266257398, 1.1210137982068438, 'DEBIT'),\n",
       "  Text(-1.1885215498911712, -0.16557936297826523, 'TRANSFER'),\n",
       "  Text(0.19342361628901053, -1.1843087877161436, 'PAYMENT'),\n",
       "  Text(1.130752535999951, -0.40174457349126647, 'CASH')])"
      ]
     },
     "execution_count": 8,
     "metadata": {},
     "output_type": "execute_result"
    },
    {
     "data": {
      "image/png": "[encoded data removed]",
      "text/plain": [
       "<Figure size 640x480 with 1 Axes>"
      ]
     },
     "metadata": {},
     "output_type": "display_data"
    }
   ],
   "source": [
    "# visualizing the same thing in a pie chart\n",
    "\n",
    "# Trying to create a plot with each section exploded from the pie.\n",
    "my_explode = [0.1, 0.1, 0.1, 0.1]\n",
    "my_labels = np.array(['DEBIT', 'TRANSFER', 'PAYMENT', 'CASH'])\n",
    "type_value_array = (scm_df['Type'].value_counts())\n",
    "plt.pie(type_value_array, labels=my_labels, shadow=True, explode=my_explode)"
   ]
  },
  {
   "cell_type": "code",
   "execution_count": 9,
   "metadata": {},
   "outputs": [
    {
     "data": {
      "text/plain": [
       "Delivery Status\n",
       "Late delivery        98977\n",
       "Advance shipping     41592\n",
       "Shipping on time     32196\n",
       "Shipping canceled     7754\n",
       "Name: count, dtype: int64"
      ]
     },
     "execution_count": 9,
     "metadata": {},
     "output_type": "execute_result"
    }
   ],
   "source": [
    "# Delivery Status\n",
    "scm_df['Delivery Status'].value_counts()"
   ]
  },
  {
   "cell_type": "code",
   "execution_count": 10,
   "metadata": {},
   "outputs": [
    {
     "data": {
      "text/plain": [
       "Text(0.5, 1.0, 'Frequency Distribution of Delivery Status')"
      ]
     },
     "execution_count": 10,
     "metadata": {},
     "output_type": "execute_result"
    },
    {
     "data": {
      "image/png": "[encoded data removed]",
      "text/plain": [
       "<Figure size 800x600 with 1 Axes>"
      ]
     },
     "metadata": {},
     "output_type": "display_data"
    }
   ],
   "source": [
    "# plotting it in a graph to visualize it better\n",
    "sns.set(style=\"whitegrid\")\n",
    "plt.figure(figsize = (8,6))\n",
    "sns.barplot(scm_df['Delivery Status'].value_counts())\n",
    "plt.xlabel(\"Delivery Status\")\n",
    "plt.ylabel(\"Frequency\")\n",
    "plt.title(\"Frequency Distribution of Delivery Status\")"
   ]
  },
  {
   "cell_type": "code",
   "execution_count": null,
   "metadata": {},
   "outputs": [],
   "source": [
    "# Customer Segment"
   ]
  },
  {
   "cell_type": "code",
   "execution_count": null,
   "metadata": {},
   "outputs": [],
   "source": [
    "# Market"
   ]
  },
  {
   "cell_type": "code",
   "execution_count": null,
   "metadata": {},
   "outputs": [],
   "source": [
    "# Order Status"
   ]
  },
  {
   "cell_type": "code",
   "execution_count": null,
   "metadata": {},
   "outputs": [],
   "source": [
    "# Product Status"
   ]
  },
  {
   "cell_type": "code",
   "execution_count": null,
   "metadata": {},
   "outputs": [],
   "source": [
    "# Shipping Mode"
   ]
  },
  {
   "cell_type": "code",
   "execution_count": null,
   "metadata": {},
   "outputs": [],
   "source": [
    "# columns to remove"
   ]
  },
  {
   "cell_type": "code",
   "execution_count": null,
   "metadata": {},
   "outputs": [],
   "source": [
    "# finding correlations"
   ]
  },
  {
   "cell_type": "code",
   "execution_count": null,
   "metadata": {},
   "outputs": [],
   "source": [
    "# Data Visualization\n",
    "# plotting multiple features against each other"
   ]
  }
 ],
 "metadata": {
  "kernelspec": {
   "display_name": "info6105",
   "language": "python",
   "name": "python3"
  },
  "language_info": {
   "codemirror_mode": {
    "name": "ipython",
    "version": 3
   },
   "file_extension": ".py",
   "mimetype": "text/x-python",
   "name": "python",
   "nbconvert_exporter": "python",
   "pygments_lexer": "ipython3",
   "version": "3.8.17"
  }
 },
 "nbformat": 4,
 "nbformat_minor": 2
}
